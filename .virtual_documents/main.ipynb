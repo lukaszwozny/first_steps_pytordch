import pandas as pd
from ydata_profiling import ProfileReport

import seaborn as sns
sns.set
import matplotlib.pyplot as plt

import numpy as np

import itertools

from sklearn.model_selection import train_test_split
from sklearn.metrics import mean_squared_error, r2_score
from sklearn.linear_model import Ridge

import lightgbm as lgb


pip install lightgbm


df = pd.read_csv("data/housing.csv")
df = df[["Lot Area", "Overall Qual", "Overall Cond", "Year Built", "Total Bsmt SF", '1st Flr SF', '2nd Flr SF', 'Fireplaces', 'Garage Cars', 'Open Porch SF', 'SalePrice']]

cols_to_remove = []
info = df.dtypes
print(type(info))
for col in df.columns:
    if df[col].dtype == 'object':
        cols_to_remove.append(col)

print(len(cols_to_remove))

# df = df[[col for col in df.columns if col not in cols_to_remove]]
df.head()


df = pd.read_csv("data/housing.csv")
df.columns


df.info()


df.describe()


df['SalePrice'].hist()


# sns.clustermap(df.corr())


# ProfileReport(df).to_file(output_file='report.html')


X = df.drop('SalePrice', axis=1)
Y = df['SalePrice']





X_train, X_test, Y_train, Y_test = train_test_split(X, Y, test_size=0.25, random_state=12)
len(X), len(X_train), len(X_test)





Y_pred_const = np.full(Y_test.shape, Y_train.mean())
Y_pred_const[:3]


np.sqrt(mean_squared_error(Y_test, Y_pred_const))


r2_score(Y_test, Y_pred_const)


def plot_predictions(Y_true, Y_predicted):
    df_pred = pd.DataFrame({'true': Y_true, 'predicted': Y_predicted})
    val_min = 0
    val_max = 1000000
    # figure = sns.jointplot(df_pred, x='true', y='predicted', 
    #                 xlim=(val_min, val_max),
    #                 ylim=(val_min, val_max))
    figure = sns.jointplot(df_pred, x='true', y='predicted',
                                              xlim=(val_min, val_max),
                    ylim=(val_min, val_max))
    figure.ax_joint.plot([val_min, val_max], [val_min, val_max], ':k')
    figure.fig.set_figheight(8)
    figure.fig.set_figwidth(8)

plot_predictions(Y_test, Y_pred_const)





lgb_model = lgb.LGBMRegressor(random_state=12)
lgb_model.fit(X_train, Y_train)
Y_pred_lgb = lgb_model.predict(X_test)


np.sqrt(mean_squared_error(Y_test, Y_pred_lgb))


r2_score(Y_test, Y_pred_lgb)


plot_predictions(Y_test, Y_pred_lgb)




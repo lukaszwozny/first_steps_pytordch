import torch
import pandas as pd
import numpy as np
import matplotlib.pyplot as plt


get_ipython().getoutput("pip install torch")


get_ipython().getoutput("nvidia-smi")


X = torch.tensor(
    [
        [[1, 2, 3], [3, 6, 9], [2, 4, 5]],
        [[1, 2, 3], [3, 6, 9], [2, 4, 5]],
    ]
)
X


R = torch.rand(12,3)
R



